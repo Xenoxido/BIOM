{
  "nbformat": 4,
  "nbformat_minor": 0,
  "metadata": {
    "colab": {
      "name": "EigenFaces Exercise.ipynb",
      "provenance": [],
      "collapsed_sections": []
    },
    "kernelspec": {
      "name": "python3",
      "display_name": "Python 3"
    },
    "accelerator": "GPU"
  },
  "cells": [
    {
      "cell_type": "markdown",
      "metadata": {
        "id": "cV2kCqNYLDSv",
        "colab_type": "text"
      },
      "source": [
        "# Imports"
      ]
    },
    {
      "cell_type": "code",
      "metadata": {
        "id": "qsmjTYlBKw9e",
        "colab_type": "code",
        "colab": {}
      },
      "source": [
        "import matplotlib.pyplot as plt\n",
        "from google.colab import drive\n",
        "from sklearn.neighbors import KNeighborsClassifier\n",
        "import math, random\n",
        "import numpy as np\n",
        "import sys\n",
        "import os\n",
        "from tqdm import tqdm"
      ],
      "execution_count": 0,
      "outputs": []
    },
    {
      "cell_type": "markdown",
      "metadata": {
        "id": "GFXTKUnGLBYI",
        "colab_type": "text"
      },
      "source": [
        "#Load Corpus\n"
      ]
    },
    {
      "cell_type": "code",
      "metadata": {
        "id": "uNLUv-b8QdMS",
        "colab_type": "code",
        "outputId": "b229cef5-aca7-4caa-8556-d0ba904acfb0",
        "colab": {
          "base_uri": "https://localhost:8080/",
          "height": 272
        }
      },
      "source": [
        "drive.mount('/drive')\n",
        "os.system('unzip /drive/Mydrive/ORLProcessed.zip')\n",
        "\n",
        "def readpgm(name):\n",
        "    with open(name) as f:\n",
        "        lines = f.readlines()\n",
        "\n",
        "    for l in list(lines):\n",
        "        if l[0] == '#':\n",
        "            lines.remove(l)\n",
        "\n",
        "    assert lines[0].strip() == 'P2' \n",
        "\n",
        "    data = []\n",
        "    for line in lines[1:]:\n",
        "        data.extend([int(c) for c in line.split()])\n",
        "\n",
        "    return (np.array(data[3:]),(data[1],data[0]),data[2])\n",
        "\n",
        "def get_images(folder, comment):\n",
        "  X = []\n",
        "  y = []\n",
        "  for l in tqdm(range(1,41), desc=comment):\n",
        "    path = folder + '/s' + str(l)\n",
        "    for i in os.listdir(path):\n",
        "      image = readpgm(path+'/'+i)\n",
        "      if image != None:\n",
        "        X.append(np.reshape(image[0],image[1]))\n",
        "        y.append(str(l))\n",
        "  X = np.array(X)\n",
        "  y = np.array(y)\n",
        "  return X,y\n",
        "\n",
        "x_train, y_train = get_images('/drive/My Drive/ORLProcessed/Train', 'Train corpus')\n",
        "x_test, y_test = get_images('/drive/My Drive/ORLProcessed/Test', 'Test corpus')\n",
        "\n",
        "print('')\n",
        "print('To train: ')\n",
        "print(x_train.shape)\n",
        "print(y_train.shape)\n",
        "\n",
        "\n",
        "print('To test: ')\n",
        "print(x_test.shape)\n",
        "print(y_test.shape)"
      ],
      "execution_count": 0,
      "outputs": [
        {
          "output_type": "stream",
          "text": [
            "Go to this URL in a browser: https://accounts.google.com/o/oauth2/auth?client_id=947318989803-6bn6qk8qdgf4n4g3pfee6491hc0brc4i.apps.googleusercontent.com&redirect_uri=urn%3aietf%3awg%3aoauth%3a2.0%3aoob&response_type=code&scope=email%20https%3a%2f%2fwww.googleapis.com%2fauth%2fdocs.test%20https%3a%2f%2fwww.googleapis.com%2fauth%2fdrive%20https%3a%2f%2fwww.googleapis.com%2fauth%2fdrive.photos.readonly%20https%3a%2f%2fwww.googleapis.com%2fauth%2fpeopleapi.readonly\n",
            "\n",
            "Enter your authorization code:\n",
            "··········\n"
          ],
          "name": "stdout"
        },
        {
          "output_type": "stream",
          "text": [
            "\rTrain corpus:   0%|          | 0/40 [00:00<?, ?it/s]"
          ],
          "name": "stderr"
        },
        {
          "output_type": "stream",
          "text": [
            "Mounted at /drive\n"
          ],
          "name": "stdout"
        },
        {
          "output_type": "stream",
          "text": [
            "Train corpus: 100%|██████████| 40/40 [02:40<00:00,  4.00s/it]\n",
            "Test corpus: 100%|██████████| 40/40 [02:53<00:00,  4.33s/it]"
          ],
          "name": "stderr"
        },
        {
          "output_type": "stream",
          "text": [
            "\n",
            "To train: \n",
            "(200, 112, 92)\n",
            "(200,)\n",
            "To test: \n",
            "(200, 112, 92)\n",
            "(200,)\n"
          ],
          "name": "stdout"
        },
        {
          "output_type": "stream",
          "text": [
            "\n"
          ],
          "name": "stderr"
        }
      ]
    },
    {
      "cell_type": "markdown",
      "metadata": {
        "id": "_Z0ey5o-WnnD",
        "colab_type": "text"
      },
      "source": [
        "# Show me a random picture"
      ]
    },
    {
      "cell_type": "code",
      "metadata": {
        "id": "CfIDQtsJVc7X",
        "colab_type": "code",
        "outputId": "b3297ff8-b697-4057-881a-076785d65734",
        "colab": {
          "base_uri": "https://localhost:8080/",
          "height": 386
        }
      },
      "source": [
        "rand_im = x_train[random.randint(0,len(x_train)-1)]\n",
        "plt.imshow(rand_im)\n",
        "print(rand_im)"
      ],
      "execution_count": 0,
      "outputs": [
        {
          "output_type": "stream",
          "text": [
            "[[34 38 36 ... 46 45 46]\n",
            " [33 37 38 ... 46 46 47]\n",
            " [34 37 42 ... 46 48 48]\n",
            " ...\n",
            " [36 36 37 ... 56 57 53]\n",
            " [38 39 36 ... 57 63 55]\n",
            " [34 35 33 ... 55 58 55]]\n"
          ],
          "name": "stdout"
        },
        {
          "output_type": "display_data",
          "data": {
            "image/png": "[encoded data removed]",
            "text/plain": [
              "<Figure size 432x288 with 1 Axes>"
            ]
          },
          "metadata": {
            "tags": [],
            "needs_background": "light"
          }
        }
      ]
    },
    {
      "cell_type": "markdown",
      "metadata": {
        "id": "5inRK0924EcV",
        "colab_type": "text"
      },
      "source": [
        "# Matrix Transform"
      ]
    },
    {
      "cell_type": "code",
      "metadata": {
        "id": "-BagnpXc7EbP",
        "colab_type": "code",
        "outputId": "f896a15a-e883-4848-97fb-e8748c99018f",
        "colab": {
          "base_uri": "https://localhost:8080/",
          "height": 50
        }
      },
      "source": [
        "x_train = np.matrix([x.flatten() for x in x_train])\n",
        "x_test = np.matrix([x.flatten() for x in x_test])\n",
        "print(x_train.shape)\n",
        "print(x_test.shape)"
      ],
      "execution_count": 0,
      "outputs": [
        {
          "output_type": "stream",
          "text": [
            "(200, 10304)\n",
            "(200, 10304)\n"
          ],
          "name": "stdout"
        }
      ]
    },
    {
      "cell_type": "markdown",
      "metadata": {
        "id": "YGId9rGDIxeJ",
        "colab_type": "text"
      },
      "source": [
        "# PCA & Eigen Vectors calcs"
      ]
    },
    {
      "cell_type": "code",
      "metadata": {
        "id": "itoGtKsU4HKQ",
        "colab_type": "code",
        "colab": {}
      },
      "source": [
        "def PCA(X):\n",
        "  X = X.T\n",
        "\n",
        "  mean = X.mean(axis=1)\n",
        "\n",
        "  A = X - mean\n",
        "  d = A.shape[0]\n",
        "  n = A.shape[1]\n",
        "  # print('Matriz A: ', A.shape)\n",
        "  # print('d = ', d)\n",
        "  # print('n = ', n)\n",
        "\n",
        "  C = 1/float(d) * A.T * A\n",
        "  \n",
        "  # print('Matriz de covarianzas: ', C.shape)\n",
        "\n",
        "  Delta_prime,B_prime = np.linalg.eigh(C)\n",
        "\n",
        "  B = A * B_prime\n",
        "  Delta = (float(d)/float(n)) * Delta_prime\n",
        "\n",
        "  e_vectoresOrdered = sorted(list(enumerate(Delta)), key=lambda l:l[1] , reverse=True)\n",
        "\n",
        "  B_res = []\n",
        "  for i,d in e_vectoresOrdered:#e_vectoresOrdered es de la forma (indice, eigenvalue)\n",
        "    B_res.append(B[:,i] / np.linalg.norm(B[:,i]))\n",
        "  B_res = np.matrix(np.array(B_res)).T\n",
        "  # print('Eigen Vectores Ordenados: ', B_res.shape)\n",
        "\n",
        "  return B_res"
      ],
      "execution_count": 0,
      "outputs": []
    },
    {
      "cell_type": "markdown",
      "metadata": {
        "id": "3ND7deg6I5e6",
        "colab_type": "text"
      },
      "source": [
        "# Reduction"
      ]
    },
    {
      "cell_type": "code",
      "metadata": {
        "id": "A8mmxzGAI_Su",
        "colab_type": "code",
        "colab": {}
      },
      "source": [
        "def reduce(data, eigenvectores, components):\n",
        "  data = data.T\n",
        "  vectores = eigenvectores[:,:components]\n",
        "  data = data - data.mean(axis=1)\n",
        "  res = vectores.T * data\n",
        "  res = res.T\n",
        "  return res"
      ],
      "execution_count": 0,
      "outputs": []
    },
    {
      "cell_type": "markdown",
      "metadata": {
        "id": "M9YoAHcp4yp7",
        "colab_type": "text"
      },
      "source": [
        "# Loop of tries"
      ]
    },
    {
      "cell_type": "code",
      "metadata": {
        "id": "pn9pcMQf47DJ",
        "colab_type": "code",
        "outputId": "e8810ffd-9fca-4b09-f73a-0eef6b42d656",
        "colab": {
          "base_uri": "https://localhost:8080/",
          "height": 1000
        }
      },
      "source": [
        "best_accuracy = 0;\n",
        "dimension_prime = 0;\n",
        "evecs_train = PCA(x_train.copy())\n",
        "x = []\n",
        "y = []\n",
        "for n in range(1,201):\n",
        "  #Dimension reduction\n",
        "  train_reduced = reduce(x_train.copy(), evecs_train.copy(), n)\n",
        "  test_reduced = reduce(x_test.copy(), evecs_train.copy(), n)\n",
        "  #1NN-Classifier\n",
        "  neigh = KNeighborsClassifier(n_neighbors=1)\n",
        "  #Train\n",
        "  neigh.fit(train_reduced, y_train)\n",
        "  #Test\n",
        "  score = neigh.score(test_reduced, y_test)\n",
        "  #Plot lists\n",
        "  x.append(n)\n",
        "  y.append(score)\n",
        "  print('For n =', n, ', accuracy = ', score)\n",
        "  if(score > best_accuracy):\n",
        "    best_accuracy = score\n",
        "    dimension_pca = n\n",
        "print('##############################################################################################')\n",
        "print('##############################################################################################')\n",
        "print('Best Score = ', best_accuracy, \", at dimension in PCA = \", dimension_pca)\n",
        "print('##############################################################################################')\n",
        "print('##############################################################################################')"
      ],
      "execution_count": 0,
      "outputs": [
        {
          "output_type": "stream",
          "text": [
            "For n = 1 , accuracy =  0.14\n",
            "For n = 2 , accuracy =  0.32\n",
            "For n = 3 , accuracy =  0.53\n",
            "For n = 4 , accuracy =  0.585\n",
            "For n = 5 , accuracy =  0.67\n",
            "For n = 6 , accuracy =  0.715\n",
            "For n = 7 , accuracy =  0.77\n",
            "For n = 8 , accuracy =  0.795\n",
            "For n = 9 , accuracy =  0.84\n",
            "For n = 10 , accuracy =  0.855\n",
            "For n = 11 , accuracy =  0.835\n",
            "For n = 12 , accuracy =  0.84\n",
            "For n = 13 , accuracy =  0.845\n",
            "For n = 14 , accuracy =  0.845\n",
            "For n = 15 , accuracy =  0.85\n",
            "For n = 16 , accuracy =  0.855\n",
            "For n = 17 , accuracy =  0.865\n",
            "For n = 18 , accuracy =  0.855\n",
            "For n = 19 , accuracy =  0.855\n",
            "For n = 20 , accuracy =  0.865\n",
            "For n = 21 , accuracy =  0.87\n",
            "For n = 22 , accuracy =  0.875\n",
            "For n = 23 , accuracy =  0.875\n",
            "For n = 24 , accuracy =  0.875\n",
            "For n = 25 , accuracy =  0.875\n",
            "For n = 26 , accuracy =  0.875\n",
            "For n = 27 , accuracy =  0.875\n",
            "For n = 28 , accuracy =  0.875\n",
            "For n = 29 , accuracy =  0.875\n",
            "For n = 30 , accuracy =  0.88\n",
            "For n = 31 , accuracy =  0.88\n",
            "For n = 32 , accuracy =  0.88\n",
            "For n = 33 , accuracy =  0.88\n",
            "For n = 34 , accuracy =  0.88\n",
            "For n = 35 , accuracy =  0.88\n",
            "For n = 36 , accuracy =  0.88\n",
            "For n = 37 , accuracy =  0.88\n",
            "For n = 38 , accuracy =  0.875\n",
            "For n = 39 , accuracy =  0.88\n",
            "For n = 40 , accuracy =  0.875\n",
            "For n = 41 , accuracy =  0.875\n",
            "For n = 42 , accuracy =  0.875\n",
            "For n = 43 , accuracy =  0.875\n",
            "For n = 44 , accuracy =  0.88\n",
            "For n = 45 , accuracy =  0.88\n",
            "For n = 46 , accuracy =  0.875\n",
            "For n = 47 , accuracy =  0.885\n",
            "For n = 48 , accuracy =  0.885\n",
            "For n = 49 , accuracy =  0.885\n",
            "For n = 50 , accuracy =  0.88\n",
            "For n = 51 , accuracy =  0.88\n",
            "For n = 52 , accuracy =  0.88\n",
            "For n = 53 , accuracy =  0.89\n",
            "For n = 54 , accuracy =  0.895\n",
            "For n = 55 , accuracy =  0.895\n",
            "For n = 56 , accuracy =  0.89\n",
            "For n = 57 , accuracy =  0.89\n",
            "For n = 58 , accuracy =  0.895\n",
            "For n = 59 , accuracy =  0.895\n",
            "For n = 60 , accuracy =  0.895\n",
            "For n = 61 , accuracy =  0.895\n",
            "For n = 62 , accuracy =  0.895\n",
            "For n = 63 , accuracy =  0.905\n",
            "For n = 64 , accuracy =  0.9\n",
            "For n = 65 , accuracy =  0.9\n",
            "For n = 66 , accuracy =  0.9\n",
            "For n = 67 , accuracy =  0.9\n",
            "For n = 68 , accuracy =  0.9\n",
            "For n = 69 , accuracy =  0.9\n",
            "For n = 70 , accuracy =  0.9\n",
            "For n = 71 , accuracy =  0.9\n",
            "For n = 72 , accuracy =  0.9\n",
            "For n = 73 , accuracy =  0.9\n",
            "For n = 74 , accuracy =  0.9\n",
            "For n = 75 , accuracy =  0.9\n",
            "For n = 76 , accuracy =  0.9\n",
            "For n = 77 , accuracy =  0.9\n",
            "For n = 78 , accuracy =  0.9\n",
            "For n = 79 , accuracy =  0.9\n",
            "For n = 80 , accuracy =  0.9\n",
            "For n = 81 , accuracy =  0.9\n",
            "For n = 82 , accuracy =  0.9\n",
            "For n = 83 , accuracy =  0.9\n",
            "For n = 84 , accuracy =  0.9\n",
            "For n = 85 , accuracy =  0.9\n",
            "For n = 86 , accuracy =  0.9\n",
            "For n = 87 , accuracy =  0.9\n",
            "For n = 88 , accuracy =  0.9\n",
            "For n = 89 , accuracy =  0.9\n",
            "For n = 90 , accuracy =  0.9\n",
            "For n = 91 , accuracy =  0.9\n",
            "For n = 92 , accuracy =  0.9\n",
            "For n = 93 , accuracy =  0.9\n",
            "For n = 94 , accuracy =  0.9\n",
            "For n = 95 , accuracy =  0.9\n",
            "For n = 96 , accuracy =  0.9\n",
            "For n = 97 , accuracy =  0.9\n",
            "For n = 98 , accuracy =  0.9\n",
            "For n = 99 , accuracy =  0.9\n",
            "For n = 100 , accuracy =  0.9\n",
            "For n = 101 , accuracy =  0.895\n",
            "For n = 102 , accuracy =  0.895\n",
            "For n = 103 , accuracy =  0.895\n",
            "For n = 104 , accuracy =  0.895\n",
            "For n = 105 , accuracy =  0.895\n",
            "For n = 106 , accuracy =  0.895\n",
            "For n = 107 , accuracy =  0.895\n",
            "For n = 108 , accuracy =  0.895\n",
            "For n = 109 , accuracy =  0.9\n",
            "For n = 110 , accuracy =  0.9\n",
            "For n = 111 , accuracy =  0.895\n",
            "For n = 112 , accuracy =  0.895\n",
            "For n = 113 , accuracy =  0.895\n",
            "For n = 114 , accuracy =  0.895\n",
            "For n = 115 , accuracy =  0.895\n",
            "For n = 116 , accuracy =  0.895\n",
            "For n = 117 , accuracy =  0.895\n",
            "For n = 118 , accuracy =  0.895\n",
            "For n = 119 , accuracy =  0.895\n",
            "For n = 120 , accuracy =  0.895\n",
            "For n = 121 , accuracy =  0.895\n",
            "For n = 122 , accuracy =  0.895\n",
            "For n = 123 , accuracy =  0.895\n",
            "For n = 124 , accuracy =  0.895\n",
            "For n = 125 , accuracy =  0.895\n",
            "For n = 126 , accuracy =  0.895\n",
            "For n = 127 , accuracy =  0.895\n",
            "For n = 128 , accuracy =  0.895\n",
            "For n = 129 , accuracy =  0.895\n",
            "For n = 130 , accuracy =  0.895\n",
            "For n = 131 , accuracy =  0.895\n",
            "For n = 132 , accuracy =  0.895\n",
            "For n = 133 , accuracy =  0.89\n",
            "For n = 134 , accuracy =  0.89\n",
            "For n = 135 , accuracy =  0.895\n",
            "For n = 136 , accuracy =  0.89\n",
            "For n = 137 , accuracy =  0.89\n",
            "For n = 138 , accuracy =  0.89\n",
            "For n = 139 , accuracy =  0.89\n",
            "For n = 140 , accuracy =  0.89\n",
            "For n = 141 , accuracy =  0.89\n",
            "For n = 142 , accuracy =  0.89\n",
            "For n = 143 , accuracy =  0.89\n",
            "For n = 144 , accuracy =  0.89\n",
            "For n = 145 , accuracy =  0.89\n",
            "For n = 146 , accuracy =  0.89\n",
            "For n = 147 , accuracy =  0.89\n",
            "For n = 148 , accuracy =  0.89\n",
            "For n = 149 , accuracy =  0.89\n",
            "For n = 150 , accuracy =  0.89\n",
            "For n = 151 , accuracy =  0.89\n",
            "For n = 152 , accuracy =  0.89\n",
            "For n = 153 , accuracy =  0.89\n",
            "For n = 154 , accuracy =  0.89\n",
            "For n = 155 , accuracy =  0.89\n",
            "For n = 156 , accuracy =  0.89\n",
            "For n = 157 , accuracy =  0.89\n",
            "For n = 158 , accuracy =  0.89\n",
            "For n = 159 , accuracy =  0.89\n",
            "For n = 160 , accuracy =  0.89\n",
            "For n = 161 , accuracy =  0.89\n",
            "For n = 162 , accuracy =  0.89\n",
            "For n = 163 , accuracy =  0.89\n",
            "For n = 164 , accuracy =  0.89\n",
            "For n = 165 , accuracy =  0.89\n",
            "For n = 166 , accuracy =  0.89\n",
            "For n = 167 , accuracy =  0.89\n",
            "For n = 168 , accuracy =  0.89\n",
            "For n = 169 , accuracy =  0.89\n",
            "For n = 170 , accuracy =  0.89\n",
            "For n = 171 , accuracy =  0.89\n",
            "For n = 172 , accuracy =  0.89\n",
            "For n = 173 , accuracy =  0.89\n",
            "For n = 174 , accuracy =  0.89\n",
            "For n = 175 , accuracy =  0.89\n",
            "For n = 176 , accuracy =  0.89\n",
            "For n = 177 , accuracy =  0.89\n",
            "For n = 178 , accuracy =  0.885\n",
            "For n = 179 , accuracy =  0.885\n",
            "For n = 180 , accuracy =  0.885\n",
            "For n = 181 , accuracy =  0.885\n",
            "For n = 182 , accuracy =  0.89\n",
            "For n = 183 , accuracy =  0.89\n",
            "For n = 184 , accuracy =  0.89\n",
            "For n = 185 , accuracy =  0.89\n",
            "For n = 186 , accuracy =  0.89\n",
            "For n = 187 , accuracy =  0.89\n",
            "For n = 188 , accuracy =  0.895\n",
            "For n = 189 , accuracy =  0.895\n",
            "For n = 190 , accuracy =  0.895\n",
            "For n = 191 , accuracy =  0.895\n",
            "For n = 192 , accuracy =  0.895\n",
            "For n = 193 , accuracy =  0.895\n",
            "For n = 194 , accuracy =  0.895\n",
            "For n = 195 , accuracy =  0.895\n",
            "For n = 196 , accuracy =  0.895\n",
            "For n = 197 , accuracy =  0.895\n",
            "For n = 198 , accuracy =  0.895\n",
            "For n = 199 , accuracy =  0.895\n",
            "For n = 200 , accuracy =  0.895\n",
            "##############################################################################################\n",
            "##############################################################################################\n",
            "Best Score =  0.905 , at dimension in PCA =  63\n",
            "##############################################################################################\n",
            "##############################################################################################\n"
          ],
          "name": "stdout"
        }
      ]
    },
    {
      "cell_type": "markdown",
      "metadata": {
        "id": "dMtTPXlvv-9x",
        "colab_type": "text"
      },
      "source": [
        "# Plot Graphics"
      ]
    },
    {
      "cell_type": "code",
      "metadata": {
        "id": "q8ELaXcTv-hk",
        "colab_type": "code",
        "outputId": "46e78c03-a103-4785-ca6b-520d4031bdf0",
        "colab": {
          "base_uri": "https://localhost:8080/"
        }
      },
      "source": [
        "plt.xlabel('d\\' Values')\n",
        "plt.ylabel('Accuracy')\n",
        "plt.plot(x, y)\n",
        "plt.show()"
      ],
      "execution_count": 0,
      "outputs": [
        {
          "output_type": "display_data",
          "data": {
            "image/png": "[encoded data removed]",
            "text/plain": [
              "<Figure size 432x288 with 1 Axes>"
            ]
          },
          "metadata": {
            "tags": [],
            "needs_background": "light"
          }
        }
      ]
    }
  ]
}